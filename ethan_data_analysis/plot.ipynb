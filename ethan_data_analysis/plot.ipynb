{
 "cells": [
  {
   "cell_type": "code",
   "execution_count": 1,
   "metadata": {},
   "outputs": [],
   "source": [
    "import matplotlib.pyplot as plt\n",
    "import numpy as np\n",
    "import pandas as pd\n",
    "import os"
   ]
  },
  {
   "cell_type": "code",
   "execution_count": null,
   "metadata": {},
   "outputs": [
    {
     "ename": "SyntaxError",
     "evalue": "expected ':' (2893372513.py, line 15)",
     "output_type": "error",
     "traceback": [
      "\u001b[1;36m  Cell \u001b[1;32mIn[4], line 15\u001b[1;36m\u001b[0m\n\u001b[1;33m    def playlistBoxplot()\u001b[0m\n\u001b[1;37m                         ^\u001b[0m\n\u001b[1;31mSyntaxError\u001b[0m\u001b[1;31m:\u001b[0m expected ':'\n"
     ]
    }
   ],
   "source": [
    "def playlistScatterplot(playlist_id):\n",
    "    destdir = f\"./data/{playlist_id}\"\n",
    "\n",
    "    playlist_df = pd.read_csv(destdir + \"/playlist.csv\")\n",
    "    rec_df = pd.read_csv(destdir + \"/recommendations.csv\")\n",
    "\n",
    "    plt.scatter(playlist_df['Energy'], playlist_df['Loudness'])\n",
    "    plt.scatter(rec_df['Energy'], rec_df['Loudness'])\n",
    "    plt.xlabel(\"Energy\")\n",
    "    plt.ylabel(\"Loudness\")\n",
    "    plt.xlim(0, 1)\n",
    "    plt.ylim(-20, 0)\n",
    "    plt.show()\n",
    "\n"
   ]
  },
  {
   "cell_type": "code",
   "execution_count": null,
   "metadata": {},
   "outputs": [],
   "source": [
    "playlistScatterplot('2witLa0lH1ObBJKvEyPkM1')\n",
    "playlistScatterplot('4V43tsZNPgyGeTQYs9EJSX')"
   ]
  }
 ],
 "metadata": {
  "kernelspec": {
   "display_name": "Python 3",
   "language": "python",
   "name": "python3"
  },
  "language_info": {
   "codemirror_mode": {
    "name": "ipython",
    "version": 3
   },
   "file_extension": ".py",
   "mimetype": "text/x-python",
   "name": "python",
   "nbconvert_exporter": "python",
   "pygments_lexer": "ipython3",
   "version": "3.12.7"
  }
 },
 "nbformat": 4,
 "nbformat_minor": 2
}
